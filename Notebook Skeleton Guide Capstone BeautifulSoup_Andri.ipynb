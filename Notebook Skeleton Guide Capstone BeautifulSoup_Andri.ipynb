{
 "cells": [
  {
   "cell_type": "markdown",
   "metadata": {
    "ExecuteTime": {
     "end_time": "2020-01-13T05:12:23.275508Z",
     "start_time": "2020-01-13T05:12:20.009898Z"
    }
   },
   "source": [
    "# Capstone Webscrapping using BeautifulSoup\n",
    "\n",
    "This notebook contains guidances & tasks on the data processing for the application\n",
    "\n",
    "## Background\n",
    "\n",
    "I try to scrap Ethereum Volume Data from CoinGecko, the world's largest independent cryptocurrency data aggregator with over 13,000+ different cryptoassets tracked across more than 500+ exchanges worldwide.\n",
    "\n",
    "I scrap 2 points from this sites, Date and Volume and then plot The Ethereum trade volume from 2020-01-01 to 2021-06-30 to see day to day fluctuation of Ethereumimport requests\n",
    "\n",
    "url_get = requests.get('<link>')"
   ]
  },
  {
   "cell_type": "markdown",
   "metadata": {},
   "source": [
    "## Import Required Library"
   ]
  },
  {
   "cell_type": "code",
   "execution_count": 1,
   "metadata": {},
   "outputs": [],
   "source": [
    "import requests\n",
    "import pandas as pd\n",
    "from bs4 import BeautifulSoup "
   ]
  },
  {
   "cell_type": "markdown",
   "metadata": {},
   "source": [
    "## Set User Agent to Avoid Anti Crawler so I can  access like the website as common browser not as bot\n",
    "\n",
    "Pada saat melakukan crawler dengan menggunakan key Table, website menampilkan \"cf-browser-verification cf-im-under-attack\", jadi sebelum request saya menambahkan User Agents untuk menghindari Anti Crawler"
   ]
  },
  {
   "cell_type": "code",
   "execution_count": 2,
   "metadata": {},
   "outputs": [],
   "source": [
    "headers = {'User-Agent': 'Mozilla/5.0 (Macintosh; Intel Mac OS X 10_10_1) AppleWebKit/537.36 (KHTML, like Gecko) Chrome/39.0.2171.95 Safari/537.36'}\n"
   ]
  },
  {
   "cell_type": "markdown",
   "metadata": {},
   "source": [
    "## Requesting the Data and Creating a BeautifulSoup\n",
    "\n",
    "Let's begin with requesting the web from the site with `get` method."
   ]
  },
  {
   "cell_type": "code",
   "execution_count": 3,
   "metadata": {},
   "outputs": [],
   "source": [
    "url_get = requests.get('https://www.coingecko.com/en/coins/ethereum/historical_data?start_date=2020-01-01&end_date=2021-06-30#panel',headers=headers)\n"
   ]
  },
  {
   "cell_type": "markdown",
   "metadata": {},
   "source": [
    "To visualize what exactly you get from the `request.get`, we can use .content so ee what we exactly get, in here i slice it so it won't make our screen full of the html we get from the page. You can delete the slicing if you want to see what we fully get."
   ]
  },
  {
   "cell_type": "code",
   "execution_count": 4,
   "metadata": {
    "ExecuteTime": {
     "end_time": "2020-01-13T05:12:23.290648Z",
     "start_time": "2020-01-13T05:12:23.277650Z"
    }
   },
   "outputs": [
    {
     "data": {
      "text/plain": [
       "b'!DOCTYPE html>\\n<html lang=\"en\">\\n<head>\\n<script src=\"/cdn-cgi/apps/head/gYtXOyllgyP3-Z2iKTP8rRWGBm4.js\"></script><script async defer src=\"https://www.googleoptimize.com/optimize.js?id=GTM-W3CD992\"></script>\\n<meta charset=\"utf-8\">\\n<meta http-equiv=\"X-UA-Compatible\" content=\"IE=edge\">\\n<script>window.NREUM||(NREUM={});NREUM.info={\"beacon\":\"bam.nr-data.net\",\"errorBeacon\":\"bam.nr-data.net\",\"licenseKey\":\"cd4a6493ab\",\"applicationID\":\"83495717\",\"transactionName\":\"dV5dRBNcDlkEEU5SDF9fQB8JWhFBDhEIUgJabldR'"
      ]
     },
     "execution_count": 4,
     "metadata": {},
     "output_type": "execute_result"
    }
   ],
   "source": [
    "url_get.content[1:500]"
   ]
  },
  {
   "cell_type": "markdown",
   "metadata": {},
   "source": [
    "As we can see we get a very unstructured and complex html, which actually contains the codes needed to show the webpages on your web browser. But we as human still confused what and where we can use that piece of code, so here where we use the beautifulsoup. Beautiful soup class will result a beautifulsoup object. Beautiful Soup transforms a complex HTML document into a complex tree of Python objects. \n",
    "\n",
    "Let's make Beautiful soup object and feel free to explore the object here."
   ]
  },
  {
   "cell_type": "code",
   "execution_count": 5,
   "metadata": {
    "ExecuteTime": {
     "end_time": "2020-01-13T05:12:23.808122Z",
     "start_time": "2020-01-13T05:12:23.292610Z"
    }
   },
   "outputs": [],
   "source": [
    "from bs4 import BeautifulSoup \n",
    "\n",
    "soup = BeautifulSoup(url_get.content,\"html.parser\")"
   ]
  },
  {
   "cell_type": "markdown",
   "metadata": {},
   "source": [
    "## Finding the right key to scrap the data & Extracting the right information"
   ]
  },
  {
   "cell_type": "markdown",
   "metadata": {},
   "source": [
    "Find the key and put the key into the `.find()` Put all the exploring the right key at this cell. (please change this markdown with your explanation)"
   ]
  },
  {
   "cell_type": "code",
   "execution_count": 6,
   "metadata": {
    "ExecuteTime": {
     "end_time": "2020-01-13T05:12:23.878904Z",
     "start_time": "2020-01-13T05:12:23.854974Z"
    }
   },
   "outputs": [],
   "source": [
    "t_headers = soup.find('table').find('thead').find_all('th')\n",
    "t_temps = soup.find('table').find('tbody').find_all('tr')"
   ]
  },
  {
   "cell_type": "markdown",
   "metadata": {},
   "source": [
    "## Scrapping Process "
   ]
  },
  {
   "cell_type": "code",
   "execution_count": 7,
   "metadata": {
    "ExecuteTime": {
     "end_time": "2020-01-13T05:12:24.008256Z",
     "start_time": "2020-01-13T05:12:23.980358Z"
    }
   },
   "outputs": [
    {
     "data": {
      "text/plain": [
       "[('2021-06-30', '$253,607,549,372', '$27,149,143,847', '$2,169.40', 'N/A'),\n",
       " ('2021-06-29',\n",
       "  '$243,040,539,437',\n",
       "  '$30,629,329,806',\n",
       "  '$2,087.52',\n",
       "  '$2,169.40'),\n",
       " ('2021-06-28',\n",
       "  '$229,354,016,311',\n",
       "  '$24,316,408,028',\n",
       "  '$1,973.93',\n",
       "  '$2,087.52'),\n",
       " ('2021-06-27',\n",
       "  '$209,989,265,221',\n",
       "  '$24,249,510,321',\n",
       "  '$1,817.05',\n",
       "  '$1,973.93'),\n",
       " ('2021-06-26',\n",
       "  '$213,871,849,532',\n",
       "  '$25,981,381,067',\n",
       "  '$1,833.46',\n",
       "  '$1,817.05'),\n",
       " ('2021-06-25',\n",
       "  '$231,644,258,719',\n",
       "  '$22,447,489,242',\n",
       "  '$1,990.08',\n",
       "  '$1,833.46'),\n",
       " ('2021-06-24',\n",
       "  '$229,518,675,837',\n",
       "  '$28,098,744,045',\n",
       "  '$1,971.11',\n",
       "  '$1,990.08'),\n",
       " ('2021-06-23',\n",
       "  '$216,876,757,209',\n",
       "  '$38,755,019,937',\n",
       "  '$1,875.36',\n",
       "  '$1,971.11'),\n",
       " ('2021-06-22',\n",
       "  '$223,202,708,789',\n",
       "  '$39,499,960,408',\n",
       "  '$1,900.12',\n",
       "  '$1,875.36'),\n",
       " ('2021-06-21',\n",
       "  '$261,478,202,409',\n",
       "  '$26,235,850,447',\n",
       "  '$2,251.56',\n",
       "  '$1,900.12'),\n",
       " ('2021-06-20',\n",
       "  '$253,396,709,039',\n",
       "  '$20,456,963,375',\n",
       "  '$2,176.31',\n",
       "  '$2,251.56'),\n",
       " ('2021-06-19',\n",
       "  '$260,039,646,334',\n",
       "  '$26,204,484,921',\n",
       "  '$2,231.55',\n",
       "  '$2,176.31'),\n",
       " ('2021-06-18',\n",
       "  '$275,415,199,642',\n",
       "  '$25,708,624,827',\n",
       "  '$2,380.74',\n",
       "  '$2,231.55'),\n",
       " ('2021-06-17',\n",
       "  '$274,666,655,405',\n",
       "  '$26,150,320,395',\n",
       "  '$2,365.87',\n",
       "  '$2,380.74'),\n",
       " ('2021-06-16',\n",
       "  '$298,324,322,330',\n",
       "  '$26,803,957,680',\n",
       "  '$2,561.19',\n",
       "  '$2,365.87'),\n",
       " ('2021-06-15',\n",
       "  '$300,405,113,218',\n",
       "  '$28,128,172,338',\n",
       "  '$2,587.38',\n",
       "  '$2,561.19'),\n",
       " ('2021-06-14',\n",
       "  '$292,767,118,262',\n",
       "  '$29,382,118,964',\n",
       "  '$2,517.77',\n",
       "  '$2,587.38'),\n",
       " ('2021-06-13',\n",
       "  '$278,223,731,471',\n",
       "  '$28,235,882,062',\n",
       "  '$2,379.99',\n",
       "  '$2,517.77'),\n",
       " ('2021-06-12',\n",
       "  '$272,748,408,238',\n",
       "  '$26,751,786,966',\n",
       "  '$2,356.63',\n",
       "  '$2,379.99'),\n",
       " ('2021-06-11',\n",
       "  '$289,444,120,869',\n",
       "  '$33,075,957,437',\n",
       "  '$2,486.60',\n",
       "  '$2,356.63'),\n",
       " ('2021-06-10',\n",
       "  '$304,761,367,058',\n",
       "  '$43,973,432,438',\n",
       "  '$2,620.63',\n",
       "  '$2,486.60'),\n",
       " ('2021-06-09',\n",
       "  '$294,068,580,259',\n",
       "  '$48,344,195,674',\n",
       "  '$2,528.02',\n",
       "  '$2,620.63'),\n",
       " ('2021-06-08',\n",
       "  '$299,857,516,850',\n",
       "  '$37,385,872,210',\n",
       "  '$2,580.54',\n",
       "  '$2,528.02'),\n",
       " ('2021-06-07',\n",
       "  '$315,044,778,229',\n",
       "  '$29,050,162,249',\n",
       "  '$2,711.55',\n",
       "  '$2,580.54'),\n",
       " ('2021-06-06',\n",
       "  '$302,743,417,252',\n",
       "  '$34,731,979,705',\n",
       "  '$2,624.77',\n",
       "  '$2,711.55'),\n",
       " ('2021-06-05',\n",
       "  '$312,991,097,367',\n",
       "  '$39,996,583,175',\n",
       "  '$2,694.50',\n",
       "  '$2,624.77'),\n",
       " ('2021-06-04',\n",
       "  '$333,964,598,115',\n",
       "  '$38,104,663,185',\n",
       "  '$2,858.28',\n",
       "  '$2,694.50'),\n",
       " ('2021-06-03',\n",
       "  '$315,313,344,229',\n",
       "  '$39,148,856,525',\n",
       "  '$2,717.15',\n",
       "  '$2,858.28'),\n",
       " ('2021-06-02',\n",
       "  '$306,488,816,882',\n",
       "  '$39,898,648,753',\n",
       "  '$2,632.66',\n",
       "  '$2,717.15'),\n",
       " ('2021-06-01',\n",
       "  '$314,463,232,387',\n",
       "  '$44,445,830,388',\n",
       "  '$2,708.43',\n",
       "  '$2,632.66'),\n",
       " ('2021-05-31',\n",
       "  '$278,270,782,654',\n",
       "  '$37,392,021,394',\n",
       "  '$2,395.85',\n",
       "  '$2,708.43'),\n",
       " ('2021-05-30',\n",
       "  '$268,672,927,561',\n",
       "  '$47,141,249,182',\n",
       "  '$2,294.63',\n",
       "  '$2,395.85'),\n",
       " ('2021-05-29',\n",
       "  '$282,228,507,935',\n",
       "  '$49,493,519,120',\n",
       "  '$2,433.33',\n",
       "  '$2,294.63'),\n",
       " ('2021-05-28',\n",
       "  '$319,404,492,003',\n",
       "  '$44,070,236,220',\n",
       "  '$2,742.99',\n",
       "  '$2,433.33'),\n",
       " ('2021-05-27',\n",
       "  '$334,435,114,557',\n",
       "  '$53,115,222,705',\n",
       "  '$2,882.48',\n",
       "  '$2,742.99'),\n",
       " ('2021-05-26',\n",
       "  '$312,566,215,517',\n",
       "  '$92,468,701,274',\n",
       "  '$2,695.48',\n",
       "  '$2,882.48'),\n",
       " ('2021-05-25',\n",
       "  '$306,046,123,108',\n",
       "  '$73,496,058,831',\n",
       "  '$2,640.16',\n",
       "  '$2,695.48'),\n",
       " ('2021-05-24',\n",
       "  '$244,070,264,761',\n",
       "  '$77,839,858,614',\n",
       "  '$2,120.04',\n",
       "  '$2,640.16'),\n",
       " ('2021-05-23',\n",
       "  '$268,503,273,693',\n",
       "  '$102,524,751,568',\n",
       "  '$2,306.37',\n",
       "  '$2,120.04'),\n",
       " ('2021-05-22',\n",
       "  '$279,623,071,719',\n",
       "  '$115,000,901,892',\n",
       "  '$2,419.10',\n",
       "  '$2,306.37'),\n",
       " ('2021-05-21',\n",
       "  '$322,162,621,075',\n",
       "  '$92,538,167,828',\n",
       "  '$2,778.28',\n",
       "  '$2,419.10'),\n",
       " ('2021-05-20',\n",
       "  '$295,232,973,802',\n",
       "  '$117,905,041,184',\n",
       "  '$2,505.01',\n",
       "  '$2,778.28'),\n",
       " ('2021-05-19',\n",
       "  '$390,227,141,901',\n",
       "  '$59,160,464,538',\n",
       "  '$3,399.05',\n",
       "  '$2,505.01'),\n",
       " ('2021-05-18',\n",
       "  '$381,161,976,478',\n",
       "  '$75,100,584,776',\n",
       "  '$3,288.23',\n",
       "  '$3,399.05'),\n",
       " ('2021-05-17',\n",
       "  '$414,265,118,100',\n",
       "  '$67,531,308,124',\n",
       "  '$3,602.00',\n",
       "  '$3,288.23'),\n",
       " ('2021-05-16',\n",
       "  '$425,715,131,137',\n",
       "  '$58,150,860,876',\n",
       "  '$3,659.92',\n",
       "  '$3,602.00'),\n",
       " ('2021-05-15',\n",
       "  '$473,724,804,235',\n",
       "  '$63,587,729,060',\n",
       "  '$4,088.73',\n",
       "  '$3,659.92'),\n",
       " ('2021-05-14',\n",
       "  '$431,105,320,829',\n",
       "  '$97,383,442,023',\n",
       "  '$3,750.34',\n",
       "  '$4,088.73'),\n",
       " ('2021-05-13',\n",
       "  '$465,647,015,109',\n",
       "  '$78,772,032,255',\n",
       "  '$3,906.11',\n",
       "  '$3,750.34'),\n",
       " ('2021-05-12',\n",
       "  '$481,380,994,613',\n",
       "  '$67,869,198,116',\n",
       "  '$4,182.79',\n",
       "  '$3,906.11'),\n",
       " ('2021-05-11',\n",
       "  '$461,040,789,541',\n",
       "  '$80,827,215,918',\n",
       "  '$3,979.61',\n",
       "  '$4,182.79'),\n",
       " ('2021-05-10',\n",
       "  '$455,448,294,001',\n",
       "  '$61,625,657,297',\n",
       "  '$3,932.75',\n",
       "  '$3,979.61'),\n",
       " ('2021-05-09',\n",
       "  '$450,716,254,203',\n",
       "  '$60,174,921,874',\n",
       "  '$3,912.74',\n",
       "  '$3,932.75'),\n",
       " ('2021-05-08',\n",
       "  '$404,284,565,610',\n",
       "  '$44,980,768,421',\n",
       "  '$3,493.53',\n",
       "  '$3,912.74'),\n",
       " ('2021-05-07',\n",
       "  '$405,355,930,466',\n",
       "  '$50,430,169,753',\n",
       "  '$3,495.08',\n",
       "  '$3,493.53'),\n",
       " ('2021-05-06',\n",
       "  '$409,191,426,696',\n",
       "  '$63,552,342,594',\n",
       "  '$3,524.56',\n",
       "  '$3,495.08'),\n",
       " ('2021-05-05',\n",
       "  '$380,565,712,270',\n",
       "  '$78,437,235,046',\n",
       "  '$3,245.66',\n",
       "  '$3,524.56'),\n",
       " ('2021-05-04',\n",
       "  '$398,258,027,094',\n",
       "  '$64,192,650,586',\n",
       "  '$3,439.86',\n",
       "  '$3,245.66'),\n",
       " ('2021-05-03',\n",
       "  '$341,953,594,507',\n",
       "  '$35,727,432,416',\n",
       "  '$2,953.30',\n",
       "  '$3,439.86'),\n",
       " ('2021-05-02',\n",
       "  '$340,730,211,564',\n",
       "  '$36,721,647,718',\n",
       "  '$2,944.92',\n",
       "  '$2,953.30')]"
      ]
     },
     "execution_count": 7,
     "metadata": {},
     "output_type": "execute_result"
    }
   ],
   "source": [
    "header = []\n",
    "temp = []\n",
    "\n",
    "#looping header table\n",
    "for t_header in t_headers:\n",
    "    th_text = str(t_header.text).strip()\n",
    "    header.append(th_text)\n",
    "\n",
    "#looping row table\n",
    "for t_temp in t_temps:\n",
    "    th = t_temp.select_one('th') # if inspect from website date using th element this use to get date\n",
    "    td = t_temp.findAll('td') # get td child of row as array\n",
    "\n",
    "    td_text_date = str(th.text).strip()\n",
    "    td_market_cap = str(td[0].text).strip()\n",
    "    td_volume = str(td[1].text).strip()\n",
    "    td_open = str(td[2].text).strip()\n",
    "    td_close = str(td[3].text).strip()\n",
    "    td_tuple = (td_text_date, td_market_cap, td_volume, td_open, td_close) # create tuple\n",
    "\n",
    "    temp.append(td_tuple)\n",
    "\n",
    "temp"
   ]
  },
  {
   "cell_type": "markdown",
   "metadata": {},
   "source": [
    "## Notes\n",
    "\n",
    "Data yang ditampilkan hanya dari tanggal 2021-05-02 sampai dengan 2021-06-30, berbeda dengan URL (end_date=2021-06-30&page=1&start_date=2020-01-01) karena 1 halaman tersebut hanya menampilkan data mulai dari tanggal 2021-05-02 "
   ]
  },
  {
   "cell_type": "markdown",
   "metadata": {},
   "source": [
    "## Data Cleaning, Creating Data Frame & Data wrangling"
   ]
  },
  {
   "cell_type": "code",
   "execution_count": 8,
   "metadata": {
    "scrolled": true
   },
   "outputs": [
    {
     "data": {
      "text/html": [
       "<div>\n",
       "<style scoped>\n",
       "    .dataframe tbody tr th:only-of-type {\n",
       "        vertical-align: middle;\n",
       "    }\n",
       "\n",
       "    .dataframe tbody tr th {\n",
       "        vertical-align: top;\n",
       "    }\n",
       "\n",
       "    .dataframe thead th {\n",
       "        text-align: right;\n",
       "    }\n",
       "</style>\n",
       "<table border=\"1\" class=\"dataframe\">\n",
       "  <thead>\n",
       "    <tr style=\"text-align: right;\">\n",
       "      <th></th>\n",
       "      <th>Volume</th>\n",
       "    </tr>\n",
       "    <tr>\n",
       "      <th>Date</th>\n",
       "      <th></th>\n",
       "    </tr>\n",
       "  </thead>\n",
       "  <tbody>\n",
       "    <tr>\n",
       "      <th>2021-05-02</th>\n",
       "      <td>$36,721,647,718</td>\n",
       "    </tr>\n",
       "    <tr>\n",
       "      <th>2021-05-03</th>\n",
       "      <td>$35,727,432,416</td>\n",
       "    </tr>\n",
       "    <tr>\n",
       "      <th>2021-05-04</th>\n",
       "      <td>$64,192,650,586</td>\n",
       "    </tr>\n",
       "    <tr>\n",
       "      <th>2021-05-05</th>\n",
       "      <td>$78,437,235,046</td>\n",
       "    </tr>\n",
       "    <tr>\n",
       "      <th>2021-05-06</th>\n",
       "      <td>$63,552,342,594</td>\n",
       "    </tr>\n",
       "  </tbody>\n",
       "</table>\n",
       "</div>"
      ],
      "text/plain": [
       "                     Volume\n",
       "Date                       \n",
       "2021-05-02  $36,721,647,718\n",
       "2021-05-03  $35,727,432,416\n",
       "2021-05-04  $64,192,650,586\n",
       "2021-05-05  $78,437,235,046\n",
       "2021-05-06  $63,552,342,594"
      ]
     },
     "execution_count": 8,
     "metadata": {},
     "output_type": "execute_result"
    }
   ],
   "source": [
    "import pandas as pd\n",
    "\n",
    "df = pd.DataFrame(temp, columns = ('td_text_date','td_market_cap','td_volume','td_open','td_close'))\n",
    "df = df[['td_text_date','td_volume']]\n",
    "df = df.rename({'td_text_date': 'Date', 'td_volume': 'Volume'}, axis=1) \n",
    "df = df.sort_values(by='Date',ascending=True)\n",
    "df = df.set_index('Date')\n",
    "\n",
    "df.head()"
   ]
  },
  {
   "cell_type": "code",
   "execution_count": 9,
   "metadata": {
    "scrolled": false
   },
   "outputs": [
    {
     "data": {
      "text/plain": [
       "Volume    object\n",
       "dtype: object"
      ]
     },
     "execution_count": 9,
     "metadata": {},
     "output_type": "execute_result"
    }
   ],
   "source": [
    "df.dtypes"
   ]
  },
  {
   "cell_type": "code",
   "execution_count": 10,
   "metadata": {},
   "outputs": [
    {
     "name": "stderr",
     "output_type": "stream",
     "text": [
      "/var/folders/yq/5l3dv0wn01n12dgs45q3p5q40000gq/T/ipykernel_7559/1223880185.py:1: FutureWarning: The default value of regex will change from True to False in a future version. In addition, single character regular expressions will *not* be treated as literal strings when regex=True.\n",
      "  df['Volume'] = df['Volume'].str.replace(\"$\",\"\")\n"
     ]
    }
   ],
   "source": [
    "df['Volume'] = df['Volume'].str.replace(\"$\",\"\")\n",
    "df['Volume'] = df['Volume'].str.replace(\",\",\"\")\n",
    "df['Volume'] = df['Volume'].astype('float64')"
   ]
  },
  {
   "cell_type": "code",
   "execution_count": 12,
   "metadata": {
    "scrolled": true
   },
   "outputs": [
    {
     "data": {
      "text/html": [
       "<div>\n",
       "<style scoped>\n",
       "    .dataframe tbody tr th:only-of-type {\n",
       "        vertical-align: middle;\n",
       "    }\n",
       "\n",
       "    .dataframe tbody tr th {\n",
       "        vertical-align: top;\n",
       "    }\n",
       "\n",
       "    .dataframe thead th {\n",
       "        text-align: right;\n",
       "    }\n",
       "</style>\n",
       "<table border=\"1\" class=\"dataframe\">\n",
       "  <thead>\n",
       "    <tr style=\"text-align: right;\">\n",
       "      <th></th>\n",
       "      <th>Volume</th>\n",
       "    </tr>\n",
       "    <tr>\n",
       "      <th>Date</th>\n",
       "      <th></th>\n",
       "    </tr>\n",
       "  </thead>\n",
       "  <tbody>\n",
       "    <tr>\n",
       "      <th>2021-05-02</th>\n",
       "      <td>3.672165e+10</td>\n",
       "    </tr>\n",
       "    <tr>\n",
       "      <th>2021-05-03</th>\n",
       "      <td>3.572743e+10</td>\n",
       "    </tr>\n",
       "    <tr>\n",
       "      <th>2021-05-04</th>\n",
       "      <td>6.419265e+10</td>\n",
       "    </tr>\n",
       "    <tr>\n",
       "      <th>2021-05-05</th>\n",
       "      <td>7.843724e+10</td>\n",
       "    </tr>\n",
       "    <tr>\n",
       "      <th>2021-05-06</th>\n",
       "      <td>6.355234e+10</td>\n",
       "    </tr>\n",
       "  </tbody>\n",
       "</table>\n",
       "</div>"
      ],
      "text/plain": [
       "                  Volume\n",
       "Date                    \n",
       "2021-05-02  3.672165e+10\n",
       "2021-05-03  3.572743e+10\n",
       "2021-05-04  6.419265e+10\n",
       "2021-05-05  7.843724e+10\n",
       "2021-05-06  6.355234e+10"
      ]
     },
     "execution_count": 12,
     "metadata": {},
     "output_type": "execute_result"
    }
   ],
   "source": [
    "df.head()"
   ]
  },
  {
   "cell_type": "code",
   "execution_count": 13,
   "metadata": {},
   "outputs": [
    {
     "data": {
      "text/plain": [
       "Volume    float64\n",
       "dtype: object"
      ]
     },
     "execution_count": 13,
     "metadata": {},
     "output_type": "execute_result"
    }
   ],
   "source": [
    "df.dtypes"
   ]
  },
  {
   "cell_type": "markdown",
   "metadata": {},
   "source": [
    "Data visualisation (please change this markdown with your explanation of what you do for data wrangling)"
   ]
  },
  {
   "cell_type": "code",
   "execution_count": 14,
   "metadata": {},
   "outputs": [
    {
     "data": {
      "text/plain": [
       "<AxesSubplot:title={'center':'Ethereum Trading (USD)'}, xlabel='Date', ylabel='Volume (USD)'>"
      ]
     },
     "execution_count": 14,
     "metadata": {},
     "output_type": "execute_result"
    },
    {
     "data": {
      "image/png": "[encoded data removed]",
      "text/plain": [
       "<Figure size 432x288 with 1 Axes>"
      ]
     },
     "metadata": {
      "needs_background": "light"
     },
     "output_type": "display_data"
    }
   ],
   "source": [
    "df.plot(title = 'Ethereum Trading (USD)', # judul plot\n",
    "        xlabel = 'Date', # nama label sumbu x\n",
    "        ylabel = 'Volume (USD)' # nama label sumbu y\n",
    "        ) "
   ]
  },
  {
   "cell_type": "markdown",
   "metadata": {},
   "source": [
    "### Implementing your webscrapping to the flask dashboard\n",
    "\n",
    "- Copy paste all of your web scrapping process to the desired position on the `app.py`\n",
    "- Changing the title of the dasboard at `index.html`"
   ]
  },
  {
   "cell_type": "markdown",
   "metadata": {},
   "source": [
    "## Finishing This Notebook with Your Analysis and Conclusion\n",
    "\n",
    "First you can do start with making the data visualisation. "
   ]
  },
  {
   "cell_type": "code",
   "execution_count": 15,
   "metadata": {
    "ExecuteTime": {
     "end_time": "2020-01-13T05:20:56.208237Z",
     "start_time": "2020-01-13T05:20:56.076043Z"
    }
   },
   "outputs": [
    {
     "data": {
      "text/plain": [
       "<AxesSubplot:title={'center':'Ethereum Trading (USD)'}, xlabel='Date', ylabel='Volume (USD)'>"
      ]
     },
     "execution_count": 15,
     "metadata": {},
     "output_type": "execute_result"
    },
    {
     "data": {
      "image/png": "[encoded data removed]",
      "text/plain": [
       "<Figure size 432x288 with 1 Axes>"
      ]
     },
     "metadata": {
      "needs_background": "light"
     },
     "output_type": "display_data"
    }
   ],
   "source": [
    "df.plot(title = 'Ethereum Trading (USD)', # judul plot\n",
    "        xlabel = 'Date', # nama label sumbu x\n",
    "        ylabel = 'Volume (USD)' # nama label sumbu y\n",
    "        ) "
   ]
  },
  {
   "cell_type": "markdown",
   "metadata": {},
   "source": [
    "Ethereum transactional volume has been on a downtrend since end of May 2021. Even though the trading volume had reached USD 117.9 bn May 20th, but\n",
    "\n",
    "On June 5th, it went as low as 1.22m $ETH"
   ]
  },
  {
   "cell_type": "markdown",
   "metadata": {},
   "source": [
    "### Extra Challange\n",
    "\n",
    "This will be not included to the scoring. \n",
    "\n",
    "- You can create additional analysis from the data.\n",
    "- Implement it to the dashboard with at `app.py` dan `index.html`."
   ]
  }
 ],
 "metadata": {
  "kernelspec": {
   "display_name": "sparta_da",
   "language": "python",
   "name": "sparta_da"
  },
  "language_info": {
   "codemirror_mode": {
    "name": "ipython",
    "version": 3
   },
   "file_extension": ".py",
   "mimetype": "text/x-python",
   "name": "python",
   "nbconvert_exporter": "python",
   "pygments_lexer": "ipython3",
   "version": "3.9.12"
  }
 },
 "nbformat": 4,
 "nbformat_minor": 2
}
